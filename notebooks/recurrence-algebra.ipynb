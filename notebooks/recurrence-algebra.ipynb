{
 "cells": [
  {
   "cell_type": "markdown",
   "metadata": {},
   "source": [
    "# Recurrence algebra\n",
    "\n",
    "In this notebook we explore the usage of SymPy to generate closed form expressions for the Coulomb matrix elements.\n",
    "\n",
    "[1] Link to Alocias' master: https://www.duo.uio.no/bitstream/handle/10852/64577/master.pdf"
   ]
  },
  {
   "cell_type": "code",
   "execution_count": 2,
   "metadata": {},
   "outputs": [
    {
     "data": {
      "application/javascript": [
       "\n",
       "            setTimeout(function() {\n",
       "                var nbb_cell_id = 2;\n",
       "                var nbb_unformatted_code = \"%reload_ext nb_black\\n\\nfrom sympy import *\";\n",
       "                var nbb_formatted_code = \"%reload_ext nb_black\\n\\nfrom sympy import *\";\n",
       "                var nbb_cells = Jupyter.notebook.get_cells();\n",
       "                for (var i = 0; i < nbb_cells.length; ++i) {\n",
       "                    if (nbb_cells[i].input_prompt_number == nbb_cell_id) {\n",
       "                        if (nbb_cells[i].get_text() == nbb_unformatted_code) {\n",
       "                             nbb_cells[i].set_text(nbb_formatted_code);\n",
       "                        }\n",
       "                        break;\n",
       "                    }\n",
       "                }\n",
       "            }, 500);\n",
       "            "
      ],
      "text/plain": [
       "<IPython.core.display.Javascript object>"
      ]
     },
     "metadata": {},
     "output_type": "display_data"
    },
    {
     "data": {
      "application/javascript": [
       "\n",
       "            setTimeout(function() {\n",
       "                var nbb_cell_id = 2;\n",
       "                var nbb_unformatted_code = \"%reload_ext nb_black\\n\\nfrom sympy import *\";\n",
       "                var nbb_formatted_code = \"%reload_ext nb_black\\n\\nfrom sympy import *\";\n",
       "                var nbb_cells = Jupyter.notebook.get_cells();\n",
       "                for (var i = 0; i < nbb_cells.length; ++i) {\n",
       "                    if (nbb_cells[i].input_prompt_number == nbb_cell_id) {\n",
       "                        if (nbb_cells[i].get_text() == nbb_unformatted_code) {\n",
       "                             nbb_cells[i].set_text(nbb_formatted_code);\n",
       "                        }\n",
       "                        break;\n",
       "                    }\n",
       "                }\n",
       "            }, 500);\n",
       "            "
      ],
      "text/plain": [
       "<IPython.core.display.Javascript object>"
      ]
     },
     "metadata": {},
     "output_type": "display_data"
    }
   ],
   "source": [
    "%reload_ext nb_black\n",
    "\n",
    "from sympy import *"
   ]
  },
  {
   "cell_type": "markdown",
   "metadata": {},
   "source": [
    "We start from the function\n",
    "\\begin{align}\n",
    "    \\zeta_n \\equiv\n",
    "    \\int_{-1}^{1} \\mathrm{d} u\n",
    "    \\frac{u^{2n}}{\\sqrt{1 - u^2}} \\exp(-a u^2),\n",
    "\\end{align}\n",
    "as defined in equation (3.41) in [1]. We have the \"base case\"\n",
    "\\begin{align}\n",
    "    \\zeta_0 = \\int_{-1}^{1} \\mathrm{d} u\n",
    "    \\frac{1}{\\sqrt{1 - u^2}} \\exp(-a u^2)\n",
    "    = \\pi \\exp(-a / 2) I_0(a / 2),\n",
    "\\end{align}\n",
    "with $I_0(z)$ as the zeroth order modified Bessel function of the first kind. The solution is found using Wolfram Alpha [here](https://www.wolframalpha.com/input/?i=integral+from+-1+to+1+of+%281+%2F+sqrt%281+-+x%5E2%29+*+exp%28-a+*+x%5E2%29%29). We can find the solution to the integrals for arbitrary values of $n$ by using the relation\n",
    "\\begin{align}\n",
    "    \\zeta_{n + 1}\n",
    "    = -\\frac{\\mathrm{d} \\zeta_n}{\\mathrm{d} a}.\n",
    "\\end{align}\n",
    "In our case we have\n",
    "\\begin{align}\n",
    "    a =\n",
    "\\end{align}"
   ]
  },
  {
   "cell_type": "code",
   "execution_count": null,
   "metadata": {},
   "outputs": [],
   "source": []
  }
 ],
 "metadata": {
  "kernelspec": {
   "display_name": "Python 3",
   "language": "python",
   "name": "python3"
  },
  "language_info": {
   "codemirror_mode": {
    "name": "ipython",
    "version": 3
   },
   "file_extension": ".py",
   "mimetype": "text/x-python",
   "name": "python",
   "nbconvert_exporter": "python",
   "pygments_lexer": "ipython3",
   "version": "3.7.4"
  }
 },
 "nbformat": 4,
 "nbformat_minor": 4
}
