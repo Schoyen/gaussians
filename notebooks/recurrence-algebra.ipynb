{
 "cells": [
  {
   "cell_type": "markdown",
   "metadata": {},
   "source": [
    "# Recurrence algebra\n",
    "\n",
    "In this notebook we explore the usage of SymPy to generate closed form expressions for the Coulomb matrix elements.\n",
    "\n",
    "[1] Link to Alocias' master: https://www.duo.uio.no/bitstream/handle/10852/64577/master.pdf"
   ]
  },
  {
   "cell_type": "code",
   "execution_count": 1,
   "metadata": {},
   "outputs": [
    {
     "data": {
      "application/javascript": [
       "\n",
       "            setTimeout(function() {\n",
       "                var nbb_cell_id = 1;\n",
       "                var nbb_unformatted_code = \"%reload_ext nb_black\\n\\nfrom sympy import *\";\n",
       "                var nbb_formatted_code = \"%reload_ext nb_black\\n\\nfrom sympy import *\";\n",
       "                var nbb_cells = Jupyter.notebook.get_cells();\n",
       "                for (var i = 0; i < nbb_cells.length; ++i) {\n",
       "                    if (nbb_cells[i].input_prompt_number == nbb_cell_id) {\n",
       "                        if (nbb_cells[i].get_text() == nbb_unformatted_code) {\n",
       "                             nbb_cells[i].set_text(nbb_formatted_code);\n",
       "                        }\n",
       "                        break;\n",
       "                    }\n",
       "                }\n",
       "            }, 500);\n",
       "            "
      ],
      "text/plain": [
       "<IPython.core.display.Javascript object>"
      ]
     },
     "metadata": {},
     "output_type": "display_data"
    }
   ],
   "source": [
    "%reload_ext nb_black\n",
    "\n",
    "from sympy import *"
   ]
  },
  {
   "cell_type": "markdown",
   "metadata": {},
   "source": [
    "We start from the function\n",
    "\\begin{align}\n",
    "    \\zeta_n \\equiv\n",
    "    \\int_{-1}^{1} \\mathrm{d} u\n",
    "    \\frac{u^{2n}}{\\sqrt{1 - u^2}} \\exp(-a u^2),\n",
    "\\end{align}\n",
    "as defined in equation (3.41) in [1]. We have the \"base case\"\n",
    "\\begin{align}\n",
    "    \\zeta_0 = \\int_{-1}^{1} \\mathrm{d} u\n",
    "    \\frac{1}{\\sqrt{1 - u^2}} \\exp(-a u^2)\n",
    "    = \\pi \\exp(-a / 2) I_0(a / 2),\n",
    "\\end{align}\n",
    "with $I_0(z)$ as the zeroth order modified Bessel function of the first kind. The solution is found using Wolfram Alpha [here](https://www.wolframalpha.com/input/?i=integral+from+-1+to+1+of+%281+%2F+sqrt%281+-+x%5E2%29+*+exp%28-a+*+x%5E2%29%29). We can find the solution to the integrals for arbitrary values of $n$ by using the relation\n",
    "\\begin{align}\n",
    "    \\zeta_{n + 1}\n",
    "    = -\\frac{\\mathrm{d} \\zeta_n}{\\mathrm{d} a}.\n",
    "\\end{align}\n",
    "Note that $I_0(-z) = I_0(z)$."
   ]
  },
  {
   "cell_type": "code",
   "execution_count": 24,
   "metadata": {},
   "outputs": [
    {
     "name": "stdout",
     "output_type": "stream",
     "text": [
      "pi*exp(-a/2)*besseli(0, a/2)\n"
     ]
    },
    {
     "data": {
      "application/javascript": [
       "\n",
       "            setTimeout(function() {\n",
       "                var nbb_cell_id = 24;\n",
       "                var nbb_unformatted_code = \"a = Symbol(\\\"a\\\")\\n\\nzeta_0 = pi * exp(-a / 2) * besseli(0, a / 2)\\n\\nprint(zeta_0)\";\n",
       "                var nbb_formatted_code = \"a = Symbol(\\\"a\\\")\\n\\nzeta_0 = pi * exp(-a / 2) * besseli(0, a / 2)\\n\\nprint(zeta_0)\";\n",
       "                var nbb_cells = Jupyter.notebook.get_cells();\n",
       "                for (var i = 0; i < nbb_cells.length; ++i) {\n",
       "                    if (nbb_cells[i].input_prompt_number == nbb_cell_id) {\n",
       "                        if (nbb_cells[i].get_text() == nbb_unformatted_code) {\n",
       "                             nbb_cells[i].set_text(nbb_formatted_code);\n",
       "                        }\n",
       "                        break;\n",
       "                    }\n",
       "                }\n",
       "            }, 500);\n",
       "            "
      ],
      "text/plain": [
       "<IPython.core.display.Javascript object>"
      ]
     },
     "metadata": {},
     "output_type": "display_data"
    }
   ],
   "source": [
    "a = Symbol(\"a\")\n",
    "\n",
    "zeta_0 = pi * exp(-a / 2) * besseli(0, a / 2)\n",
    "\n",
    "print(zeta_0)"
   ]
  },
  {
   "cell_type": "markdown",
   "metadata": {},
   "source": [
    "We now check $\\zeta_1$ by the recurrence relation and compare it to the result from [Wolfram Alpha](https://www.wolframalpha.com/input/?i=integrate+from+-1+to+1+of+%28x%5E2%2Fsqrt%281+-+x%5E2%29+exp%28-a+x%5E2%29%29), which is\n",
    "\\begin{align}\n",
    "    \\zeta_1 = \\int_{-1}^{1} \\mathrm{d} u\n",
    "    \\frac{u^2}{\\sqrt{1 - u^2}} \\exp(-a u^2)\n",
    "    = \\frac{\\pi}{2} \\exp(-a / 2) \\left(\n",
    "        I_0(a / 2)\n",
    "        - I_1(a / 2)\n",
    "    \\right).\n",
    "\\end{align}"
   ]
  },
  {
   "cell_type": "code",
   "execution_count": 26,
   "metadata": {},
   "outputs": [
    {
     "name": "stdout",
     "output_type": "stream",
     "text": [
      "pi*exp(-a/2)*besseli(0, a/2)/2 - pi*exp(-a/2)*besseli(1, a/2)/2\n"
     ]
    },
    {
     "data": {
      "application/javascript": [
       "\n",
       "            setTimeout(function() {\n",
       "                var nbb_cell_id = 26;\n",
       "                var nbb_unformatted_code = \"zeta_1 = -zeta_0.diff(a)\\n\\nprint(zeta_1)\";\n",
       "                var nbb_formatted_code = \"zeta_1 = -zeta_0.diff(a)\\n\\nprint(zeta_1)\";\n",
       "                var nbb_cells = Jupyter.notebook.get_cells();\n",
       "                for (var i = 0; i < nbb_cells.length; ++i) {\n",
       "                    if (nbb_cells[i].input_prompt_number == nbb_cell_id) {\n",
       "                        if (nbb_cells[i].get_text() == nbb_unformatted_code) {\n",
       "                             nbb_cells[i].set_text(nbb_formatted_code);\n",
       "                        }\n",
       "                        break;\n",
       "                    }\n",
       "                }\n",
       "            }, 500);\n",
       "            "
      ],
      "text/plain": [
       "<IPython.core.display.Javascript object>"
      ]
     },
     "metadata": {},
     "output_type": "display_data"
    }
   ],
   "source": [
    "zeta_1 = -zeta_0.diff(a)\n",
    "\n",
    "print(zeta_1)"
   ]
  },
  {
   "cell_type": "markdown",
   "metadata": {},
   "source": [
    "We thus see that we can get higher order functions from the symbolic differentiation."
   ]
  },
  {
   "cell_type": "code",
   "execution_count": 29,
   "metadata": {},
   "outputs": [
    {
     "name": "stdout",
     "output_type": "stream",
     "text": [
      "pi*exp(-a**2/2)*besseli(0, a**2/2)\n"
     ]
    },
    {
     "data": {
      "application/javascript": [
       "\n",
       "            setTimeout(function() {\n",
       "                var nbb_cell_id = 29;\n",
       "                var nbb_unformatted_code = \"zeta_0 = pi * exp(-(a ** 2) / 2) * besseli(0, a ** 2 / 2)\\n\\nprint(zeta_0)\";\n",
       "                var nbb_formatted_code = \"zeta_0 = pi * exp(-(a ** 2) / 2) * besseli(0, a ** 2 / 2)\\n\\nprint(zeta_0)\";\n",
       "                var nbb_cells = Jupyter.notebook.get_cells();\n",
       "                for (var i = 0; i < nbb_cells.length; ++i) {\n",
       "                    if (nbb_cells[i].input_prompt_number == nbb_cell_id) {\n",
       "                        if (nbb_cells[i].get_text() == nbb_unformatted_code) {\n",
       "                             nbb_cells[i].set_text(nbb_formatted_code);\n",
       "                        }\n",
       "                        break;\n",
       "                    }\n",
       "                }\n",
       "            }, 500);\n",
       "            "
      ],
      "text/plain": [
       "<IPython.core.display.Javascript object>"
      ]
     },
     "metadata": {},
     "output_type": "display_data"
    }
   ],
   "source": [
    "zeta_0 = pi * exp(-(a ** 2) / 2) * besseli(0, a ** 2 / 2)\n",
    "\n",
    "print(zeta_0)"
   ]
  },
  {
   "cell_type": "code",
   "execution_count": 30,
   "metadata": {},
   "outputs": [
    {
     "name": "stdout",
     "output_type": "stream",
     "text": [
      "pi*a*exp(-a**2/2)*besseli(0, a**2/2) - pi*a*exp(-a**2/2)*besseli(1, a**2/2)\n"
     ]
    },
    {
     "data": {
      "application/javascript": [
       "\n",
       "            setTimeout(function() {\n",
       "                var nbb_cell_id = 30;\n",
       "                var nbb_unformatted_code = \"zeta_1 = -zeta_0.diff(a)\\n\\nprint(zeta_1)\";\n",
       "                var nbb_formatted_code = \"zeta_1 = -zeta_0.diff(a)\\n\\nprint(zeta_1)\";\n",
       "                var nbb_cells = Jupyter.notebook.get_cells();\n",
       "                for (var i = 0; i < nbb_cells.length; ++i) {\n",
       "                    if (nbb_cells[i].input_prompt_number == nbb_cell_id) {\n",
       "                        if (nbb_cells[i].get_text() == nbb_unformatted_code) {\n",
       "                             nbb_cells[i].set_text(nbb_formatted_code);\n",
       "                        }\n",
       "                        break;\n",
       "                    }\n",
       "                }\n",
       "            }, 500);\n",
       "            "
      ],
      "text/plain": [
       "<IPython.core.display.Javascript object>"
      ]
     },
     "metadata": {},
     "output_type": "display_data"
    }
   ],
   "source": [
    "zeta_1 = -zeta_0.diff(a)\n",
    "\n",
    "print(zeta_1)"
   ]
  },
  {
   "cell_type": "markdown",
   "metadata": {},
   "source": [
    "In our case we have\n",
    "\\begin{align}\n",
    "    a = \\frac{pq}{p + q} R^2_{PQ},\n",
    "\\end{align}\n",
    "with $\\mathbf{R}_{PQ} = \\mathbf{P} - \\mathbf{Q}$. The full Coulomb attraction integral (between two normalized spherical Gaussian charge distributions) is then given by\n",
    "\\begin{align}\n",
    "    V_{pq}\n",
    "    &= \n",
    "    \\frac{pq}{\\pi^2}\n",
    "    \\int\\mathrm{d}\\mathbf{r}_1\\mathrm{d}\\mathbf{r}_2\n",
    "    \\frac{\\exp(-pr^2_{1P})\\exp(-qr^2_{2Q})}{r_{12}}\n",
    "    \\\\\n",
    "    &= \\frac{\\sqrt{pq}}{\\sqrt{\\pi}\\sqrt{p + q}}\n",
    "    \\int_{-1}^{1}\\mathrm{d}f\\frac{1}{\\sqrt{1 - f^2}}\n",
    "    \\exp\\left(\n",
    "        -\\frac{pq}{p + q} f^2 R^2_{PQ}\n",
    "    \\right),\n",
    "\\end{align}\n",
    "with $\\mathbf{r}_{iP} \\equiv \\mathbf{r}_i - \\mathbf{P}$. The sperical Gaussian charge distributions are given by\n",
    "\\begin{align}\n",
    "    \\rho(\\mathbf{r}) = \\frac{p}{\\pi}\\exp(-pr^2_P).\n",
    "\\end{align}\n",
    "Turning to Hermite Gaussians on the form\n",
    "\\begin{align}\n",
    "    \\Lambda_{tu}(\\mathbf{r})\n",
    "    &= \\frac{\\partial^t}{\\partial P_x^t}\n",
    "    \\frac{\\partial^u}{\\partial P_y^u}\n",
    "    \\exp(-p \\mathbf{r}_P^2),\n",
    "\\end{align}\n",
    "we can find the Coulomb interaction between two Hermite Gaussians. This is given by\n",
    "\\begin{align}\n",
    "    V_{tu;\\tau\\nu}\n",
    "    &= \\int\\mathrm{d}\\mathbf{r}_1\\mathrm{d}\\mathbf{r}_2\n",
    "    \\frac{\\Lambda_{tu}(\\mathbf{r}_1; p, \\mathbf{P})\\Lambda_{\\tau\\nu}(\\mathbf{r}_2; q, \\mathbf{Q})}{r_{12}}\n",
    "    = \\frac{\\pi^2}{pq}(-1)^{\\tau + \\nu}\n",
    "    \\frac{\\partial^{t + \\tau}}{\\partial P_x^{t + \\tau}}\n",
    "    \\frac{\\partial^{u + \\nu}}{\\partial P_y^{u + \\nu}}\n",
    "    V_{pq}\n",
    "    \\\\\n",
    "    &= \\frac{\\pi}{pq} (-1)^{\\tau + \\nu}\n",
    "    \\frac{\\partial^{t + \\tau}}{\\partial P_x^{t + \\tau}}\n",
    "    \\frac{\\partial^{u + \\nu}}{\\partial P_y^{u + \\nu}} I(\\alpha, \\mathbf{R}_{PQ}),\n",
    "\\end{align}\n",
    "where we've defined the integral\n",
    "\\begin{align}\n",
    "    I(\\alpha, \\mathbf{R}_{PQ})\n",
    "    &= \\sqrt{\\frac{\\pi}{\\alpha}} \\zeta_0(\\alpha R^2_{PQ}),\n",
    "\\end{align}\n",
    "with $\\alpha$ being\n",
    "\\begin{align}\n",
    "    \\alpha = \\frac{pq}{p + q}.\n",
    "\\end{align}"
   ]
  },
  {
   "cell_type": "markdown",
   "metadata": {},
   "source": [
    "We now differentiate $I$ with respect to $P_x$ (it is the same for $P_y$, but with $x$ replaced by $y$ where applicable). This gives\n",
    "\\begin{align}\n",
    "    \\frac{\\partial I}{\\partial P_x}\n",
    "    &= \\sqrt{\\frac{\\pi}{\\alpha}}\\frac{\\partial u}{\\partial P_x} \\frac{\\mathrm{d}\\zeta_0(u)}{\\mathrm{d} u},\n",
    "\\end{align}\n",
    "where we've defined\n",
    "\\begin{align}\n",
    "    u = \\alpha R^2_{PQ},\n",
    "\\end{align}\n",
    "and the derivative of $u$ with respect to $P_x$ yields\n",
    "\\begin{align}\n",
    "    \\frac{\\partial u}{\\partial P_x}\n",
    "    &= 2\\alpha (P_x - Q_x)\n",
    "    = 2\\alpha X_{PQ}.\n",
    "\\end{align}\n",
    "We are then left with\n",
    "\\begin{align}\n",
    "    \\frac{\\partial I}{\\partial P_x}\n",
    "    &= \\sqrt{\\frac{\\pi}{\\alpha}}\n",
    "    2\\alpha X_{PQ}\n",
    "    \\left[\n",
    "        -\\zeta_1(\\alpha R^2_{PQ})\n",
    "    \\right]\n",
    "    = -2\\sqrt{\\alpha\\pi} X_{PQ}\n",
    "    \\zeta_1(\\alpha R^2_{PQ}).\n",
    "\\end{align}"
   ]
  },
  {
   "cell_type": "markdown",
   "metadata": {},
   "source": [
    "Moving on we define an intermediate function given by\n",
    "\\begin{gather}\n",
    "    \\xi^{n}_{00}(\\alpha, \\mathbf{R}_{PQ})\n",
    "    = (-2)^n \\sqrt{\\pi} \\alpha^{n - 1/2} \\zeta_n(\\alpha R^2_{PQ}), \n",
    "    \\\\\n",
    "    \\xi^{n}_{tu}(\\alpha, \\mathbf{R}_{PQ})\n",
    "    = \\frac{\\partial^t}{\\partial P_x^t}\n",
    "    \\frac{\\partial^u}{\\partial P_y^u}\n",
    "    \\xi^n_{00}(\\alpha R^2_{PQ}).\n",
    "\\end{gather}\n",
    "By incrementing $t$ ($u$) we can create recurrence relations for arbitrary values of $n$. We get\n",
    "\\begin{align}\n",
    "    \\xi^{n}_{t + 1, u}\n",
    "    &= \\frac{\\partial^t}{\\partial P_x^t}\n",
    "    \\frac{\\partial^u}{\\partial P_y^u}\n",
    "    \\frac{\\partial \\xi^n_{00}}{\\partial P_x}\n",
    "\\end{align}"
   ]
  }
 ],
 "metadata": {
  "kernelspec": {
   "display_name": "Python 3",
   "language": "python",
   "name": "python3"
  },
  "language_info": {
   "codemirror_mode": {
    "name": "ipython",
    "version": 3
   },
   "file_extension": ".py",
   "mimetype": "text/x-python",
   "name": "python",
   "nbconvert_exporter": "python",
   "pygments_lexer": "ipython3",
   "version": "3.7.4"
  }
 },
 "nbformat": 4,
 "nbformat_minor": 4
}
