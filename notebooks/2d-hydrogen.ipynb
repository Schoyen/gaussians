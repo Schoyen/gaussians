{
 "cells": [
  {
   "cell_type": "markdown",
   "id": "6d6631b3",
   "metadata": {},
   "source": [
    "# Flat hydrogen\n",
    "\n",
    "In this notebook we'll explore the the two-dimensional hydrogen atom using the two-dimensional Gaussian framework.\n",
    "The Hamiltonian for the electron is given by\n",
    "\\begin{align}\n",
    "    \\hat{h} = \\hat{t} - \\frac{1}{\\sqrt{x^2 + y^2}}.\n",
    "\\end{align}"
   ]
  },
  {
   "cell_type": "code",
   "execution_count": 175,
   "id": "141e14dc",
   "metadata": {},
   "outputs": [
    {
     "data": {
      "application/javascript": [
       "\n",
       "            setTimeout(function() {\n",
       "                var nbb_cell_id = 175;\n",
       "                var nbb_unformatted_code = \"%reload_ext nb_black\";\n",
       "                var nbb_formatted_code = \"%reload_ext nb_black\";\n",
       "                var nbb_cells = Jupyter.notebook.get_cells();\n",
       "                for (var i = 0; i < nbb_cells.length; ++i) {\n",
       "                    if (nbb_cells[i].input_prompt_number == nbb_cell_id) {\n",
       "                        if (nbb_cells[i].get_text() == nbb_unformatted_code) {\n",
       "                             nbb_cells[i].set_text(nbb_formatted_code);\n",
       "                        }\n",
       "                        break;\n",
       "                    }\n",
       "                }\n",
       "            }, 500);\n",
       "            "
      ],
      "text/plain": [
       "<IPython.core.display.Javascript object>"
      ]
     },
     "metadata": {},
     "output_type": "display_data"
    },
    {
     "data": {
      "application/javascript": [
       "\n",
       "            setTimeout(function() {\n",
       "                var nbb_cell_id = 175;\n",
       "                var nbb_unformatted_code = \"%reload_ext nb_black\";\n",
       "                var nbb_formatted_code = \"%reload_ext nb_black\";\n",
       "                var nbb_cells = Jupyter.notebook.get_cells();\n",
       "                for (var i = 0; i < nbb_cells.length; ++i) {\n",
       "                    if (nbb_cells[i].input_prompt_number == nbb_cell_id) {\n",
       "                        if (nbb_cells[i].get_text() == nbb_unformatted_code) {\n",
       "                             nbb_cells[i].set_text(nbb_formatted_code);\n",
       "                        }\n",
       "                        break;\n",
       "                    }\n",
       "                }\n",
       "            }, 500);\n",
       "            "
      ],
      "text/plain": [
       "<IPython.core.display.Javascript object>"
      ]
     },
     "metadata": {},
     "output_type": "display_data"
    }
   ],
   "source": [
    "%reload_ext nb_black"
   ]
  },
  {
   "cell_type": "code",
   "execution_count": 46,
   "id": "8d069637",
   "metadata": {},
   "outputs": [
    {
     "data": {
      "application/javascript": [
       "\n",
       "            setTimeout(function() {\n",
       "                var nbb_cell_id = 46;\n",
       "                var nbb_unformatted_code = \"import numpy as np\\nimport matplotlib.pyplot as plt\\nimport scipy.linalg\\n\\nfrom gaussians import G2D\\nimport gaussians.two_dim_lib as tdl\\n\\nfrom quantum_systems import BasisSet, SpatialOrbitalSystem\";\n",
       "                var nbb_formatted_code = \"import numpy as np\\nimport matplotlib.pyplot as plt\\nimport scipy.linalg\\n\\nfrom gaussians import G2D\\nimport gaussians.two_dim_lib as tdl\\n\\nfrom quantum_systems import BasisSet, SpatialOrbitalSystem\";\n",
       "                var nbb_cells = Jupyter.notebook.get_cells();\n",
       "                for (var i = 0; i < nbb_cells.length; ++i) {\n",
       "                    if (nbb_cells[i].input_prompt_number == nbb_cell_id) {\n",
       "                        if (nbb_cells[i].get_text() == nbb_unformatted_code) {\n",
       "                             nbb_cells[i].set_text(nbb_formatted_code);\n",
       "                        }\n",
       "                        break;\n",
       "                    }\n",
       "                }\n",
       "            }, 500);\n",
       "            "
      ],
      "text/plain": [
       "<IPython.core.display.Javascript object>"
      ]
     },
     "metadata": {},
     "output_type": "display_data"
    }
   ],
   "source": [
    "import numpy as np\n",
    "import matplotlib.pyplot as plt\n",
    "import scipy.linalg\n",
    "\n",
    "from gaussians import G2D\n",
    "import gaussians.two_dim_lib as tdl\n",
    "\n",
    "from quantum_systems import BasisSet, SpatialOrbitalSystem"
   ]
  },
  {
   "cell_type": "code",
   "execution_count": 164,
   "id": "92ba62c6",
   "metadata": {},
   "outputs": [
    {
     "data": {
      "application/javascript": [
       "\n",
       "            setTimeout(function() {\n",
       "                var nbb_cell_id = 164;\n",
       "                var nbb_unformatted_code = \"center = tuple((0, 0))\\na = 2\\n\\nX, Y = np.meshgrid(np.linspace(-5, 5, 401), np.linspace(-5, 5, 401))\\n\\ngaussians = [G2D((i, j), a, A=center) for i in range(4) for j in range(4)]\\n# gaussians = [G2D((0, 0), 1.7, A=center)]  # , G2D((0, 0), 2)]\\ng2d_params = tuple(g.get_params() for g in gaussians)\";\n",
       "                var nbb_formatted_code = \"center = tuple((0, 0))\\na = 2\\n\\nX, Y = np.meshgrid(np.linspace(-5, 5, 401), np.linspace(-5, 5, 401))\\n\\ngaussians = [G2D((i, j), a, A=center) for i in range(4) for j in range(4)]\\n# gaussians = [G2D((0, 0), 1.7, A=center)]  # , G2D((0, 0), 2)]\\ng2d_params = tuple(g.get_params() for g in gaussians)\";\n",
       "                var nbb_cells = Jupyter.notebook.get_cells();\n",
       "                for (var i = 0; i < nbb_cells.length; ++i) {\n",
       "                    if (nbb_cells[i].input_prompt_number == nbb_cell_id) {\n",
       "                        if (nbb_cells[i].get_text() == nbb_unformatted_code) {\n",
       "                             nbb_cells[i].set_text(nbb_formatted_code);\n",
       "                        }\n",
       "                        break;\n",
       "                    }\n",
       "                }\n",
       "            }, 500);\n",
       "            "
      ],
      "text/plain": [
       "<IPython.core.display.Javascript object>"
      ]
     },
     "metadata": {},
     "output_type": "display_data"
    }
   ],
   "source": [
    "center = tuple((0, 0))\n",
    "a = 2\n",
    "\n",
    "X, Y = np.meshgrid(np.linspace(-5, 5, 401), np.linspace(-5, 5, 401))\n",
    "\n",
    "gaussians = [G2D((i, j), a, A=center) for i in range(4) for j in range(4)]\n",
    "# gaussians = [G2D((0, 0), 1.7, A=center)]  # , G2D((0, 0), 2)]\n",
    "g2d_params = tuple(g.get_params() for g in gaussians)"
   ]
  },
  {
   "cell_type": "code",
   "execution_count": 165,
   "id": "2aed6cc2",
   "metadata": {},
   "outputs": [
    {
     "data": {
      "application/javascript": [
       "\n",
       "            setTimeout(function() {\n",
       "                var nbb_cell_id = 165;\n",
       "                var nbb_unformatted_code = \"t = tdl.construct_kinetic_operator_matrix_elements(g2d_params)\\nv = tdl.construct_coulomb_attraction_operator_matrix_elements(center, g2d_params)\\ns = tdl.construct_overlap_matrix_elements(g2d_params)\\n\\nh = t - v\";\n",
       "                var nbb_formatted_code = \"t = tdl.construct_kinetic_operator_matrix_elements(g2d_params)\\nv = tdl.construct_coulomb_attraction_operator_matrix_elements(center, g2d_params)\\ns = tdl.construct_overlap_matrix_elements(g2d_params)\\n\\nh = t - v\";\n",
       "                var nbb_cells = Jupyter.notebook.get_cells();\n",
       "                for (var i = 0; i < nbb_cells.length; ++i) {\n",
       "                    if (nbb_cells[i].input_prompt_number == nbb_cell_id) {\n",
       "                        if (nbb_cells[i].get_text() == nbb_unformatted_code) {\n",
       "                             nbb_cells[i].set_text(nbb_formatted_code);\n",
       "                        }\n",
       "                        break;\n",
       "                    }\n",
       "                }\n",
       "            }, 500);\n",
       "            "
      ],
      "text/plain": [
       "<IPython.core.display.Javascript object>"
      ]
     },
     "metadata": {},
     "output_type": "display_data"
    }
   ],
   "source": [
    "t = tdl.construct_kinetic_operator_matrix_elements(g2d_params)\n",
    "v = tdl.construct_coulomb_attraction_operator_matrix_elements(\n",
    "    center, g2d_params\n",
    ")\n",
    "s = tdl.construct_overlap_matrix_elements(g2d_params)\n",
    "\n",
    "h = t - v"
   ]
  },
  {
   "cell_type": "code",
   "execution_count": 166,
   "id": "abbb9072",
   "metadata": {},
   "outputs": [
    {
     "data": {
      "application/javascript": [
       "\n",
       "            setTimeout(function() {\n",
       "                var nbb_cell_id = 166;\n",
       "                var nbb_unformatted_code = \"bs = BasisSet(len(gaussians), dim=2)\\nbs.s = s\\nbs.h = h\\nbs.u = np.zeros((bs.l, bs.l, bs.l, bs.l))\\nbs.spf = np.array([g(X, Y, with_norm=False) for g in gaussians])\";\n",
       "                var nbb_formatted_code = \"bs = BasisSet(len(gaussians), dim=2)\\nbs.s = s\\nbs.h = h\\nbs.u = np.zeros((bs.l, bs.l, bs.l, bs.l))\\nbs.spf = np.array([g(X, Y, with_norm=False) for g in gaussians])\";\n",
       "                var nbb_cells = Jupyter.notebook.get_cells();\n",
       "                for (var i = 0; i < nbb_cells.length; ++i) {\n",
       "                    if (nbb_cells[i].input_prompt_number == nbb_cell_id) {\n",
       "                        if (nbb_cells[i].get_text() == nbb_unformatted_code) {\n",
       "                             nbb_cells[i].set_text(nbb_formatted_code);\n",
       "                        }\n",
       "                        break;\n",
       "                    }\n",
       "                }\n",
       "            }, 500);\n",
       "            "
      ],
      "text/plain": [
       "<IPython.core.display.Javascript object>"
      ]
     },
     "metadata": {},
     "output_type": "display_data"
    }
   ],
   "source": [
    "bs = BasisSet(len(gaussians), dim=2)\n",
    "bs.s = s\n",
    "bs.h = h\n",
    "bs.u = np.zeros((bs.l, bs.l, bs.l, bs.l))\n",
    "bs.spf = np.array([g(X, Y, with_norm=False) for g in gaussians])"
   ]
  },
  {
   "cell_type": "code",
   "execution_count": 167,
   "id": "c6b71dc7",
   "metadata": {},
   "outputs": [
    {
     "data": {
      "text/plain": [
       "<matplotlib.contour.QuadContourSet at 0x7f1279a1fa90>"
      ]
     },
     "execution_count": 167,
     "metadata": {},
     "output_type": "execute_result"
    },
    {
     "data": {
      "image/png": "[encoded data removed]",
      "text/plain": [
       "<Figure size 432x288 with 1 Axes>"
      ]
     },
     "metadata": {
      "needs_background": "light"
     },
     "output_type": "display_data"
    },
    {
     "data": {
      "application/javascript": [
       "\n",
       "            setTimeout(function() {\n",
       "                var nbb_cell_id = 167;\n",
       "                var nbb_unformatted_code = \"plt.contourf(X, Y, np.abs(bs.spf[0]) ** 2)\";\n",
       "                var nbb_formatted_code = \"plt.contourf(X, Y, np.abs(bs.spf[0]) ** 2)\";\n",
       "                var nbb_cells = Jupyter.notebook.get_cells();\n",
       "                for (var i = 0; i < nbb_cells.length; ++i) {\n",
       "                    if (nbb_cells[i].input_prompt_number == nbb_cell_id) {\n",
       "                        if (nbb_cells[i].get_text() == nbb_unformatted_code) {\n",
       "                             nbb_cells[i].set_text(nbb_formatted_code);\n",
       "                        }\n",
       "                        break;\n",
       "                    }\n",
       "                }\n",
       "            }, 500);\n",
       "            "
      ],
      "text/plain": [
       "<IPython.core.display.Javascript object>"
      ]
     },
     "metadata": {},
     "output_type": "display_data"
    }
   ],
   "source": [
    "plt.contourf(X, Y, np.abs(bs.spf[0]) ** 2)"
   ]
  },
  {
   "cell_type": "code",
   "execution_count": 171,
   "id": "a303db42",
   "metadata": {},
   "outputs": [
    {
     "name": "stdout",
     "output_type": "stream",
     "text": [
      "[-1.60730183  1.1752444   1.1752444   2.74418897  3.10306008  4.67065961\n",
      "  6.13176001  6.13176001  7.10380958  7.10380958  8.81849878  9.00593112\n",
      "  9.0306893  12.12988968 12.12988968 14.96250648]\n"
     ]
    },
    {
     "data": {
      "application/javascript": [
       "\n",
       "            setTimeout(function() {\n",
       "                var nbb_cell_id = 171;\n",
       "                var nbb_unformatted_code = \"eps, C = scipy.linalg.eigh(bs.h, bs.s)\\nprint(eps)\";\n",
       "                var nbb_formatted_code = \"eps, C = scipy.linalg.eigh(bs.h, bs.s)\\nprint(eps)\";\n",
       "                var nbb_cells = Jupyter.notebook.get_cells();\n",
       "                for (var i = 0; i < nbb_cells.length; ++i) {\n",
       "                    if (nbb_cells[i].input_prompt_number == nbb_cell_id) {\n",
       "                        if (nbb_cells[i].get_text() == nbb_unformatted_code) {\n",
       "                             nbb_cells[i].set_text(nbb_formatted_code);\n",
       "                        }\n",
       "                        break;\n",
       "                    }\n",
       "                }\n",
       "            }, 500);\n",
       "            "
      ],
      "text/plain": [
       "<IPython.core.display.Javascript object>"
      ]
     },
     "metadata": {},
     "output_type": "display_data"
    }
   ],
   "source": [
    "eps, C = scipy.linalg.eigh(bs.h, bs.s)\n",
    "print(eps)"
   ]
  },
  {
   "cell_type": "code",
   "execution_count": 172,
   "id": "8078180f",
   "metadata": {},
   "outputs": [
    {
     "data": {
      "application/javascript": [
       "\n",
       "            setTimeout(function() {\n",
       "                var nbb_cell_id = 172;\n",
       "                var nbb_unformatted_code = \"bs_2 = bs.copy_basis()\";\n",
       "                var nbb_formatted_code = \"bs_2 = bs.copy_basis()\";\n",
       "                var nbb_cells = Jupyter.notebook.get_cells();\n",
       "                for (var i = 0; i < nbb_cells.length; ++i) {\n",
       "                    if (nbb_cells[i].input_prompt_number == nbb_cell_id) {\n",
       "                        if (nbb_cells[i].get_text() == nbb_unformatted_code) {\n",
       "                             nbb_cells[i].set_text(nbb_formatted_code);\n",
       "                        }\n",
       "                        break;\n",
       "                    }\n",
       "                }\n",
       "            }, 500);\n",
       "            "
      ],
      "text/plain": [
       "<IPython.core.display.Javascript object>"
      ]
     },
     "metadata": {},
     "output_type": "display_data"
    }
   ],
   "source": [
    "bs_2 = bs.copy_basis()"
   ]
  },
  {
   "cell_type": "code",
   "execution_count": 173,
   "id": "4f044bc1",
   "metadata": {},
   "outputs": [
    {
     "data": {
      "application/javascript": [
       "\n",
       "            setTimeout(function() {\n",
       "                var nbb_cell_id = 173;\n",
       "                var nbb_unformatted_code = \"bs_2.change_basis(C=C)\";\n",
       "                var nbb_formatted_code = \"bs_2.change_basis(C=C)\";\n",
       "                var nbb_cells = Jupyter.notebook.get_cells();\n",
       "                for (var i = 0; i < nbb_cells.length; ++i) {\n",
       "                    if (nbb_cells[i].input_prompt_number == nbb_cell_id) {\n",
       "                        if (nbb_cells[i].get_text() == nbb_unformatted_code) {\n",
       "                             nbb_cells[i].set_text(nbb_formatted_code);\n",
       "                        }\n",
       "                        break;\n",
       "                    }\n",
       "                }\n",
       "            }, 500);\n",
       "            "
      ],
      "text/plain": [
       "<IPython.core.display.Javascript object>"
      ]
     },
     "metadata": {},
     "output_type": "display_data"
    }
   ],
   "source": [
    "bs_2.change_basis(C=C)"
   ]
  },
  {
   "cell_type": "code",
   "execution_count": 174,
   "id": "e48178c7",
   "metadata": {},
   "outputs": [
    {
     "data": {
      "text/plain": [
       "<matplotlib.contour.QuadContourSet at 0x7f1279a0c550>"
      ]
     },
     "execution_count": 174,
     "metadata": {},
     "output_type": "execute_result"
    },
    {
     "data": {
      "image/png": "[encoded data removed]",
      "text/plain": [
       "<Figure size 432x288 with 1 Axes>"
      ]
     },
     "metadata": {
      "needs_background": "light"
     },
     "output_type": "display_data"
    },
    {
     "data": {
      "application/javascript": [
       "\n",
       "            setTimeout(function() {\n",
       "                var nbb_cell_id = 174;\n",
       "                var nbb_unformatted_code = \"plt.contourf(X, Y, np.abs(bs_2.spf[0]) ** 2)\";\n",
       "                var nbb_formatted_code = \"plt.contourf(X, Y, np.abs(bs_2.spf[0]) ** 2)\";\n",
       "                var nbb_cells = Jupyter.notebook.get_cells();\n",
       "                for (var i = 0; i < nbb_cells.length; ++i) {\n",
       "                    if (nbb_cells[i].input_prompt_number == nbb_cell_id) {\n",
       "                        if (nbb_cells[i].get_text() == nbb_unformatted_code) {\n",
       "                             nbb_cells[i].set_text(nbb_formatted_code);\n",
       "                        }\n",
       "                        break;\n",
       "                    }\n",
       "                }\n",
       "            }, 500);\n",
       "            "
      ],
      "text/plain": [
       "<IPython.core.display.Javascript object>"
      ]
     },
     "metadata": {},
     "output_type": "display_data"
    }
   ],
   "source": [
    "plt.contourf(X, Y, np.abs(bs_2.spf[0]) ** 2)"
   ]
  }
 ],
 "metadata": {
  "kernelspec": {
   "display_name": "Python 3",
   "language": "python",
   "name": "python3"
  },
  "language_info": {
   "codemirror_mode": {
    "name": "ipython",
    "version": 3
   },
   "file_extension": ".py",
   "mimetype": "text/x-python",
   "name": "python",
   "nbconvert_exporter": "python",
   "pygments_lexer": "ipython3",
   "version": "3.9.5"
  }
 },
 "nbformat": 4,
 "nbformat_minor": 5
}
